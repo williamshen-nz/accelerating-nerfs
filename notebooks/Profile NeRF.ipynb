{
 "cells": [
  {
   "cell_type": "markdown",
   "id": "cf03514d",
   "metadata": {},
   "source": [
    "# Profile NeRF with Timeloop and Accelergy"
   ]
  },
  {
   "cell_type": "code",
   "execution_count": 1,
   "id": "899904e0",
   "metadata": {},
   "outputs": [],
   "source": [
    "import os\n",
    "import re\n",
    "import yaml\n",
    "import json\n",
    "import traceback\n",
    "\n",
    "from profiler import Profiler\n",
    "from notebook_utils import natural_sort\n",
    "\n",
    "import sys\n",
    "sys.path.append(\"../\") # go to parent dir\n",
    "\n",
    "from accelerating_nerfs.models import VanillaNeRF, patch_forward"
   ]
  },
  {
   "cell_type": "markdown",
   "id": "ca49e096",
   "metadata": {},
   "source": [
    "## Load NeRF model\n",
    "We use vanilla NeRFs which are MLPs"
   ]
  },
  {
   "cell_type": "code",
   "execution_count": 2,
   "id": "d8830c76",
   "metadata": {},
   "outputs": [],
   "source": [
    "# Uncomment to view architecture diagram\n",
    "# from IPython.display import IFrame\n",
    "# IFrame(\"./figures/netdiag-modified.pdf\", width=600, height=350)"
   ]
  },
  {
   "cell_type": "code",
   "execution_count": 3,
   "id": "e85925ff",
   "metadata": {
    "scrolled": true
   },
   "outputs": [
    {
     "name": "stdout",
     "output_type": "stream",
     "text": [
      "VanillaNeRF(\n",
      "  (posi_encoder): SinusoidalEncoder()\n",
      "  (view_encoder): SinusoidalEncoder()\n",
      "  (mlp): NerfMLP(\n",
      "    (base): MLP(\n",
      "      (hidden_activation): ReLU()\n",
      "      (output_activation): Identity()\n",
      "      (hidden_layers): ModuleList(\n",
      "        (0): Linear(in_features=63, out_features=256, bias=True)\n",
      "        (1): Linear(in_features=256, out_features=256, bias=True)\n",
      "        (2): Linear(in_features=256, out_features=256, bias=True)\n",
      "        (3): Linear(in_features=256, out_features=256, bias=True)\n",
      "        (4): Linear(in_features=256, out_features=256, bias=True)\n",
      "        (5): Linear(in_features=319, out_features=256, bias=True)\n",
      "        (6): Linear(in_features=256, out_features=256, bias=True)\n",
      "        (7): Linear(in_features=256, out_features=256, bias=True)\n",
      "      )\n",
      "    )\n",
      "    (sigma_layer): DenseLayer(\n",
      "      (hidden_activation): ReLU()\n",
      "      (output_activation): Identity()\n",
      "      (hidden_layers): ModuleList()\n",
      "      (output_layer): Linear(in_features=256, out_features=1, bias=True)\n",
      "    )\n",
      "    (bottleneck_layer): DenseLayer(\n",
      "      (hidden_activation): ReLU()\n",
      "      (output_activation): Identity()\n",
      "      (hidden_layers): ModuleList()\n",
      "      (output_layer): Linear(in_features=256, out_features=256, bias=True)\n",
      "    )\n",
      "    (rgb_layer): MLP(\n",
      "      (hidden_activation): ReLU()\n",
      "      (output_activation): Identity()\n",
      "      (hidden_layers): ModuleList(\n",
      "        (0): Linear(in_features=283, out_features=128, bias=True)\n",
      "      )\n",
      "      (output_layer): Linear(in_features=128, out_features=3, bias=True)\n",
      "    )\n",
      "  )\n",
      ")\n"
     ]
    },
    {
     "name": "stderr",
     "output_type": "stream",
     "text": [
      "/home/workspace/notebooks/../accelerating_nerfs/models.py:254: UserWarning: patched forward of VanillaNeRF to also pass the condition. You should only use this for debugging or with Timeloop and Accelergy\n",
      "  warnings.warn(\n"
     ]
    }
   ],
   "source": [
    "model = VanillaNeRF()\n",
    "\n",
    "# Need to patch the forward method for the purpose of mapping to pass in ray directions\n",
    "# This ensures the bottleneck layer is captured in the timeloop outputs\n",
    "patch_forward(model)\n",
    "print(model)"
   ]
  },
  {
   "cell_type": "markdown",
   "id": "3c870967",
   "metadata": {},
   "source": [
    "### Configure saving of profiling results\n",
    "This isn't important so you can ignore the details."
   ]
  },
  {
   "cell_type": "code",
   "execution_count": 4,
   "id": "41223636",
   "metadata": {},
   "outputs": [],
   "source": [
    "# Accumulate results in this dictionary\n",
    "profile_results = {}\n",
    "\n",
    "# Setup saving the profiling results\n",
    "results_dir = \"profile_results\"\n",
    "os.makedirs(results_dir, exist_ok=True)\n",
    "\n",
    "\n",
    "def save_results():\n",
    "    all_other_results = {}\n",
    "    \n",
    "    for arch, arch_results in profile_results.items():\n",
    "        # Write the super long results to it's own file\n",
    "        arch_results_path = os.path.join(results_dir, f\"{arch}_results.json\")\n",
    "        with open(arch_results_path, \"w\") as f:\n",
    "            json.dump(arch_results[\"results\"], f, indent=4)\n",
    "            print(f\"Saved {arch} results to {arch_results_path}\")\n",
    "        \n",
    "        # Accumulate the other results as they're shorter and more readable\n",
    "        other_results = {\n",
    "            k: v for k, v in arch_results.items()\n",
    "            if k != \"results\"\n",
    "        }\n",
    "        # Have a pointer to the separate results file\n",
    "        other_results[\"results\"] = os.path.abspath(arch_results_path)\n",
    "        all_other_results[arch] = other_results\n",
    "    \n",
    "    results_path = os.path.join(results_dir, \"results.json\")\n",
    "    with open(results_path, \"w\") as f:\n",
    "        json.dump(all_other_results, f, indent=4)\n",
    "\n",
    "    print(f\"Saved profile results to {results_path}\")"
   ]
  },
  {
   "cell_type": "markdown",
   "id": "2d33fd4d",
   "metadata": {},
   "source": [
    "### Loading NeRF layer shapes\n",
    "You can ignore this, it's for populating the profiling results with additional debug information."
   ]
  },
  {
   "cell_type": "code",
   "execution_count": 5,
   "id": "8bf0e15a",
   "metadata": {},
   "outputs": [],
   "source": [
    "def nerf_layer_shapes() -> dict:\n",
    "    \"\"\" Load layer shape info from the pytorch2timeloop converter. Returns mapping of layer ID to shape dict \"\"\"\n",
    "    nerf_layer_dir = \"workloads/nerf\"\n",
    "    keys_should_be_1 = [\"Hdilation\", \"Hstride\", \"P\", \"Q\", \"R\", \"S\", \"Wdilation\", \"Wstride\"]\n",
    "    layer_shapes = {}\n",
    "    \n",
    "    for layer_path in natural_sort(os.listdir(nerf_layer_dir)):\n",
    "        layer_path = os.path.join(nerf_layer_dir, layer_path)\n",
    "        layer_id = int(layer_path.split(\"layer\")[1].split(\".\")[0])\n",
    "\n",
    "        with open(layer_path, \"r\") as f:\n",
    "            layer_config = yaml.safe_load(f)\n",
    "\n",
    "        instance = layer_config['problem']['instance']\n",
    "        for key in keys_should_be_1:\n",
    "            assert instance[key] == 1, f\"{key} != 1\"\n",
    "            del instance[key]\n",
    "\n",
    "        # print(f\"{os.path.basename(layer_path)}, layer_id={layer_id}, {instance}\")\n",
    "        assert layer_id not in layer_shapes\n",
    "        layer_shapes[layer_id] = {\"shape\": instance}\n",
    "        \n",
    "    assert layer_shapes, \"layer_shapes should not be empty\"\n",
    "    return layer_shapes"
   ]
  },
  {
   "cell_type": "markdown",
   "id": "bdf13f07",
   "metadata": {},
   "source": [
    "## Profile using Timeloop and Accelergy\n",
    "I think we can safely ignore the 'unknown module type' warnings."
   ]
  },
  {
   "cell_type": "code",
   "execution_count": 6,
   "id": "af4fa1f2",
   "metadata": {
    "scrolled": false
   },
   "outputs": [
    {
     "name": "stderr",
     "output_type": "stream",
     "text": [
      "unknown module type <class 'accelerating_nerfs.models.SinusoidalEncoder'>\n",
      "unknown module type <class 'accelerating_nerfs.models.SinusoidalEncoder'>\n",
      "unknown module type <class 'torch.nn.modules.linear.Identity'>\n",
      "unknown module type <class 'accelerating_nerfs.models.MLP'>\n",
      "unknown module type <class 'torch.nn.modules.linear.Identity'>\n",
      "unknown module type <class 'accelerating_nerfs.models.DenseLayer'>\n",
      "unknown module type <class 'torch.nn.modules.linear.Identity'>\n",
      "unknown module type <class 'accelerating_nerfs.models.DenseLayer'>\n",
      "unknown module type <class 'torch.nn.modules.linear.Identity'>\n",
      "unknown module type <class 'accelerating_nerfs.models.MLP'>\n",
      "unknown module type <class 'accelerating_nerfs.models.NerfMLP'>\n",
      "unknown module type <class 'accelerating_nerfs.models.VanillaNeRF'>\n"
     ]
    },
    {
     "name": "stdout",
     "output_type": "stream",
     "text": [
      "====================\n",
      "Running eyeriss_like\n",
      "====================\n"
     ]
    },
    {
     "name": "stderr",
     "output_type": "stream",
     "text": [
      "running timeloop to get energy and latency...: 0it [00:00, ?it/s]\n",
      "/usr/local/lib/python3.8/dist-packages/torchprofile/profile.py:22: UserWarning: No handlers found: \"aten::unsqueeze\". Skipped.\n",
      "  warnings.warn('No handlers found: \"{}\". Skipped.'.format(\n",
      "/usr/local/lib/python3.8/dist-packages/torchprofile/profile.py:22: UserWarning: No handlers found: \"aten::reshape\". Skipped.\n",
      "  warnings.warn('No handlers found: \"{}\". Skipped.'.format(\n",
      "/usr/local/lib/python3.8/dist-packages/torchprofile/profile.py:22: UserWarning: No handlers found: \"aten::sin\". Skipped.\n",
      "  warnings.warn('No handlers found: \"{}\". Skipped.'.format(\n",
      "unknown module type <class 'accelerating_nerfs.models.SinusoidalEncoder'>\n",
      "unknown module type <class 'accelerating_nerfs.models.SinusoidalEncoder'>\n",
      "unknown module type <class 'torch.nn.modules.linear.Identity'>\n",
      "unknown module type <class 'accelerating_nerfs.models.MLP'>\n",
      "unknown module type <class 'torch.nn.modules.linear.Identity'>\n",
      "unknown module type <class 'accelerating_nerfs.models.DenseLayer'>\n",
      "unknown module type <class 'torch.nn.modules.linear.Identity'>\n",
      "unknown module type <class 'accelerating_nerfs.models.DenseLayer'>\n",
      "unknown module type <class 'torch.nn.modules.linear.Identity'>\n",
      "unknown module type <class 'accelerating_nerfs.models.MLP'>\n",
      "unknown module type <class 'accelerating_nerfs.models.NerfMLP'>\n",
      "unknown module type <class 'accelerating_nerfs.models.VanillaNeRF'>\n"
     ]
    },
    {
     "name": "stdout",
     "output_type": "stream",
     "text": [
      "total_area: 0.0\n",
      "total_energy: 1211.45\n",
      "total_cycle: 1136384.0\n",
      "num_params: 595844\n",
      "macs: 593450\n",
      "activation_size: 2300.0\n",
      "Saved eyeriss_like results to profile_results/eyeriss_like_results.json\n",
      "Saved profile results to profile_results/results.json\n",
      "====================\n",
      "Running simba_like\n",
      "====================\n"
     ]
    },
    {
     "name": "stderr",
     "output_type": "stream",
     "text": [
      "running timeloop to get energy and latency...: 100%|██████████| 6/6 [00:42<00:00,  7.12s/it]\n",
      "Traceback (most recent call last):\n",
      "  File \"/tmp/ipykernel_5534/3720083429.py\", line 22, in <module>\n",
      "    results, summary, layer_summary = profiler.profile()\n",
      "  File \"/home/workspace/notebooks/profiler.py\", line 349, in profile\n",
      "    self.populate_profiled_lib(layer_info)\n",
      "  File \"/home/workspace/notebooks/profiler.py\", line 297, in populate_profiled_lib\n",
      "    info = {key: layer_info[layer_id][key] for key in keys_to_include}\n",
      "  File \"/home/workspace/notebooks/profiler.py\", line 297, in <dictcomp>\n",
      "    info = {key: layer_info[layer_id][key] for key in keys_to_include}\n",
      "KeyError: 'energy'\n",
      "unknown module type <class 'accelerating_nerfs.models.SinusoidalEncoder'>\n",
      "unknown module type <class 'accelerating_nerfs.models.SinusoidalEncoder'>\n",
      "unknown module type <class 'torch.nn.modules.linear.Identity'>\n",
      "unknown module type <class 'accelerating_nerfs.models.MLP'>\n",
      "unknown module type <class 'torch.nn.modules.linear.Identity'>\n",
      "unknown module type <class 'accelerating_nerfs.models.DenseLayer'>\n",
      "unknown module type <class 'torch.nn.modules.linear.Identity'>\n",
      "unknown module type <class 'accelerating_nerfs.models.DenseLayer'>\n",
      "unknown module type <class 'torch.nn.modules.linear.Identity'>\n",
      "unknown module type <class 'accelerating_nerfs.models.MLP'>\n",
      "unknown module type <class 'accelerating_nerfs.models.NerfMLP'>\n",
      "unknown module type <class 'accelerating_nerfs.models.VanillaNeRF'>\n"
     ]
    },
    {
     "name": "stdout",
     "output_type": "stream",
     "text": [
      "CRITICAL WARNING: /home/workspace/notebooks/designs/simba_like/nerf/layer1/timeloop-mapper.stats.txt does not exist, skipping...\n",
      "CRITICAL WARNING: /home/workspace/notebooks/designs/simba_like/nerf/layer6/timeloop-mapper.stats.txt does not exist, skipping...\n",
      "CRITICAL WARNING: /home/workspace/notebooks/designs/simba_like/nerf/layer11/timeloop-mapper.stats.txt does not exist, skipping...\n",
      "ERROR: could not run profiler for simba_like, do not trust these results!\n",
      "====================\n",
      "Running simple_output_stationary\n",
      "====================\n"
     ]
    },
    {
     "name": "stderr",
     "output_type": "stream",
     "text": [
      "running timeloop to get energy and latency...: 100%|██████████| 6/6 [04:14<00:00, 42.47s/it]\n",
      "Traceback (most recent call last):\n",
      "  File \"/tmp/ipykernel_5534/3720083429.py\", line 22, in <module>\n",
      "    results, summary, layer_summary = profiler.profile()\n",
      "  File \"/home/workspace/notebooks/profiler.py\", line 349, in profile\n",
      "    self.populate_profiled_lib(layer_info)\n",
      "  File \"/home/workspace/notebooks/profiler.py\", line 297, in populate_profiled_lib\n",
      "    info = {key: layer_info[layer_id][key] for key in keys_to_include}\n",
      "  File \"/home/workspace/notebooks/profiler.py\", line 297, in <dictcomp>\n",
      "    info = {key: layer_info[layer_id][key] for key in keys_to_include}\n",
      "KeyError: 'energy'\n",
      "unknown module type <class 'accelerating_nerfs.models.SinusoidalEncoder'>\n",
      "unknown module type <class 'accelerating_nerfs.models.SinusoidalEncoder'>\n",
      "unknown module type <class 'torch.nn.modules.linear.Identity'>\n",
      "unknown module type <class 'accelerating_nerfs.models.MLP'>\n",
      "unknown module type <class 'torch.nn.modules.linear.Identity'>\n",
      "unknown module type <class 'accelerating_nerfs.models.DenseLayer'>\n",
      "unknown module type <class 'torch.nn.modules.linear.Identity'>\n",
      "unknown module type <class 'accelerating_nerfs.models.DenseLayer'>\n",
      "unknown module type <class 'torch.nn.modules.linear.Identity'>\n",
      "unknown module type <class 'accelerating_nerfs.models.MLP'>\n",
      "unknown module type <class 'accelerating_nerfs.models.NerfMLP'>\n",
      "unknown module type <class 'accelerating_nerfs.models.VanillaNeRF'>\n"
     ]
    },
    {
     "name": "stdout",
     "output_type": "stream",
     "text": [
      "CRITICAL WARNING: /home/workspace/notebooks/designs/simple_output_stationary/nerf/layer1/timeloop-mapper.stats.txt does not exist, skipping...\n",
      "CRITICAL WARNING: /home/workspace/notebooks/designs/simple_output_stationary/nerf/layer6/timeloop-mapper.stats.txt does not exist, skipping...\n",
      "CRITICAL WARNING: /home/workspace/notebooks/designs/simple_output_stationary/nerf/layer11/timeloop-mapper.stats.txt does not exist, skipping...\n",
      "ERROR: could not run profiler for simple_output_stationary, do not trust these results!\n",
      "====================\n",
      "Running simple_weight_stationary\n",
      "====================\n"
     ]
    },
    {
     "name": "stderr",
     "output_type": "stream",
     "text": [
      "running timeloop to get energy and latency...: 0it [00:00, ?it/s]\n",
      "/usr/local/lib/python3.8/dist-packages/torchprofile/profile.py:22: UserWarning: No handlers found: \"aten::unsqueeze\". Skipped.\n",
      "  warnings.warn('No handlers found: \"{}\". Skipped.'.format(\n",
      "/usr/local/lib/python3.8/dist-packages/torchprofile/profile.py:22: UserWarning: No handlers found: \"aten::reshape\". Skipped.\n",
      "  warnings.warn('No handlers found: \"{}\". Skipped.'.format(\n",
      "/usr/local/lib/python3.8/dist-packages/torchprofile/profile.py:22: UserWarning: No handlers found: \"aten::sin\". Skipped.\n",
      "  warnings.warn('No handlers found: \"{}\". Skipped.'.format(\n"
     ]
    },
    {
     "name": "stdout",
     "output_type": "stream",
     "text": [
      "total_area: 0.0\n",
      "total_energy: 1143.2300000000002\n",
      "total_cycle: 4059456.0\n",
      "num_params: 595844\n",
      "macs: 593450\n",
      "activation_size: 2300.0\n",
      "Saved eyeriss_like results to profile_results/eyeriss_like_results.json\n",
      "Saved simple_weight_stationary results to profile_results/simple_weight_stationary_results.json\n",
      "Saved profile results to profile_results/results.json\n"
     ]
    }
   ],
   "source": [
    "archs = [\"eyeriss_like\", \"simba_like\", \"simple_output_stationary\", \"simple_weight_stationary\"]\n",
    "failed_archs = set()\n",
    "\n",
    "for arch in archs:\n",
    "    print(20 * '=')\n",
    "    print(f\"Running {arch}\")\n",
    "    print(20 * '=')\n",
    "    \n",
    "    # Profile - you should only need to change batch_size if anything\n",
    "    try:\n",
    "        profiler = Profiler(\n",
    "            top_dir='workloads',\n",
    "            sub_dir='nerf',\n",
    "            timeloop_dir=f\"designs/{arch}\",\n",
    "            arch_name=arch,\n",
    "            model=model,\n",
    "            input_size=(1, 3),\n",
    "            batch_size=128,  # TODO: adjust this, ICARUS uses 128\n",
    "            convert_fc=True,\n",
    "            exception_module_names=[]\n",
    "        )\n",
    "        results, summary, layer_summary = profiler.profile()\n",
    "    except Exception as e:\n",
    "        # TODO: figure this out https://piazza.com/class/ldf2iof72w51sl/post/44\n",
    "        traceback.print_exc()\n",
    "        print(f\"ERROR: could not run profiler for {arch}, do not trust these results!\")\n",
    "        failed_archs.add(arch)\n",
    "        continue\n",
    "    \n",
    "    # Add nerf layer shapes to the layer summary\n",
    "    for layer_id in layer_summary:\n",
    "        layer_summary[layer_id].update(nerf_layer_shapes()[layer_id])\n",
    "        \n",
    "    # Print summary information\n",
    "    for k, v in summary.items():\n",
    "        print(f\"{k}: {v}\")\n",
    "        \n",
    "    profile_results[arch] = {\n",
    "        \"results\": results,\n",
    "        \"summary\": summary,\n",
    "        \"layer_summary\": layer_summary,\n",
    "    }\n",
    "    save_results()"
   ]
  },
  {
   "cell_type": "code",
   "execution_count": 7,
   "id": "2ee6177b",
   "metadata": {},
   "outputs": [
    {
     "name": "stdout",
     "output_type": "stream",
     "text": [
      "===== eyeriss_like =====\n",
      "{'total_area': 0.0, 'total_energy': 1143.2300000000002, 'total_cycle': 4059456.0, 'num_params': 595844, 'macs': 593450, 'activation_size': 2300.0}\n",
      "===== simple_weight_stationary =====\n",
      "{'total_area': 0.0, 'total_energy': 1143.2300000000002, 'total_cycle': 4059456.0, 'num_params': 595844, 'macs': 593450, 'activation_size': 2300.0}\n"
     ]
    }
   ],
   "source": [
    "for arch, arch_results in profile_results.items():\n",
    "    print(f\"===== {arch} =====\")\n",
    "    print(summary)"
   ]
  }
 ],
 "metadata": {
  "kernelspec": {
   "display_name": "Python 3 (ipykernel)",
   "language": "python",
   "name": "python3"
  },
  "language_info": {
   "codemirror_mode": {
    "name": "ipython",
    "version": 3
   },
   "file_extension": ".py",
   "mimetype": "text/x-python",
   "name": "python",
   "nbconvert_exporter": "python",
   "pygments_lexer": "ipython3",
   "version": "3.8.10"
  }
 },
 "nbformat": 4,
 "nbformat_minor": 5
}
