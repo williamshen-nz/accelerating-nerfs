{
 "cells": [
  {
   "cell_type": "markdown",
   "id": "36e98bd9",
   "metadata": {},
   "source": [
    "# <span style=\"color:red\">OUTDATED: use \"Profile NeRF.ipynb\" notebook<span>"
   ]
  },
  {
   "cell_type": "markdown",
   "id": "146d082e",
   "metadata": {},
   "source": [
    "## Convert NeRF to Timeloop Layer Shapes"
   ]
  },
  {
   "cell_type": "code",
   "execution_count": 1,
   "id": "e46865f8",
   "metadata": {
    "is_executing": true
   },
   "outputs": [],
   "source": [
    "import pytorch2timeloop\n",
    "import os\n",
    "\n",
    "import sys\n",
    "sys.path.append(\"../\") # go to parent dir\n",
    "\n",
    "from accelerating_nerfs.models import VanillaNeRF"
   ]
  },
  {
   "cell_type": "code",
   "execution_count": 2,
   "id": "935780ae",
   "metadata": {},
   "outputs": [
    {
     "name": "stdout",
     "output_type": "stream",
     "text": [
      "input_shape = (1, 3), batch_size = 16384\n"
     ]
    }
   ],
   "source": [
    "# Using vanilla NeRF which are MLPs\n",
    "model = VanillaNeRF()\n",
    "\n",
    "# Need to patch the forward method for the purpose of mapping to pass in ray directions\n",
    "# This ensures the bottleneck layer is captured in the timeloop outputs\n",
    "model.old_forward = model.forward\n",
    "\n",
    "def new_forward(self, x):\n",
    "    return self.old_forward(x, x)\n",
    "\n",
    "model.forward = new_forward.__get__(model)\n",
    "\n",
    "input_shape = (1, 3)\n",
    "batch_size = 2 ** 14\n",
    "save_dir = \"../architectures/layer_shapes\"\n",
    "os.makedirs(save_dir, exist_ok=True)\n",
    "\n",
    "print(f\"input_shape = {input_shape}, batch_size = {batch_size}\")"
   ]
  },
  {
   "cell_type": "code",
   "execution_count": 3,
   "id": "86be1d31",
   "metadata": {},
   "outputs": [
    {
     "name": "stderr",
     "output_type": "stream",
     "text": [
      "unknown module type <class 'accelerating_nerfs.models.SinusoidalEncoder'>\n",
      "unknown module type <class 'accelerating_nerfs.models.SinusoidalEncoder'>\n",
      "unknown module type <class 'torch.nn.modules.linear.Identity'>\n",
      "unknown module type <class 'accelerating_nerfs.models.MLP'>\n",
      "unknown module type <class 'torch.nn.modules.linear.Identity'>\n",
      "unknown module type <class 'accelerating_nerfs.models.DenseLayer'>\n",
      "unknown module type <class 'torch.nn.modules.linear.Identity'>\n",
      "unknown module type <class 'accelerating_nerfs.models.DenseLayer'>\n",
      "unknown module type <class 'torch.nn.modules.linear.Identity'>\n",
      "unknown module type <class 'accelerating_nerfs.models.MLP'>\n",
      "unknown module type <class 'accelerating_nerfs.models.NerfMLP'>\n",
      "unknown module type <class 'accelerating_nerfs.models.VanillaNeRF'>\n"
     ]
    },
    {
     "name": "stdout",
     "output_type": "stream",
     "text": [
      "Success, check results in ../architectures/layer_shapes/Nerf\n"
     ]
    }
   ],
   "source": [
    "pytorch2timeloop.convert_model(\n",
    "    model=model,\n",
    "    input_size=input_shape,\n",
    "    batch_size=batch_size,\n",
    "    model_name=\"Nerf\",\n",
    "    save_dir=save_dir,\n",
    "    convert_fc=True,\n",
    "    exception_module_names=[],\n",
    ")\n",
    "nerf_layer_dir = os.path.join(save_dir, \"Nerf\")\n",
    "\n",
    "print(f\"Success, check results in {nerf_layer_dir}\")"
   ]
  },
  {
   "cell_type": "markdown",
   "id": "f8b018b2",
   "metadata": {},
   "source": [
    "### Print out layer info and check against actual model"
   ]
  },
  {
   "cell_type": "code",
   "execution_count": 4,
   "id": "30669219",
   "metadata": {},
   "outputs": [
    {
     "name": "stdout",
     "output_type": "stream",
     "text": [
      "Nerf_layer1.yaml, C=63, M=256, N=16384\n",
      "Nerf_layer2.yaml, C=256, M=256, N=16384\n",
      "Nerf_layer3.yaml, C=256, M=256, N=16384\n",
      "Nerf_layer4.yaml, C=256, M=256, N=16384\n",
      "Nerf_layer5.yaml, C=256, M=256, N=16384\n",
      "Nerf_layer6.yaml, C=319, M=256, N=16384\n",
      "Nerf_layer7.yaml, C=256, M=256, N=16384\n",
      "Nerf_layer8.yaml, C=256, M=256, N=16384\n",
      "Nerf_layer9.yaml, C=256, M=1, N=16384\n",
      "Nerf_layer10.yaml, C=256, M=256, N=16384\n",
      "Nerf_layer11.yaml, C=283, M=128, N=16384\n",
      "Nerf_layer12.yaml, C=128, M=3, N=16384\n"
     ]
    }
   ],
   "source": [
    "import re\n",
    "import yaml\n",
    "\n",
    "\n",
    "def natural_sort(l): \n",
    "    convert = lambda text: int(text) if text.isdigit() else text.lower()\n",
    "    alphanum_key = lambda key: [convert(c) for c in re.split('([0-9]+)', key)]\n",
    "    return sorted(l, key=alphanum_key)\n",
    "\n",
    "\n",
    "for layer_path in natural_sort(os.listdir(nerf_layer_dir)):\n",
    "    layer_path = os.path.join(nerf_layer_dir, layer_path)\n",
    "    \n",
    "    with open(layer_path, \"r\") as f:\n",
    "        layer_config = yaml.safe_load(f)\n",
    "        \n",
    "    C = layer_config['problem']['instance']['C']\n",
    "    M = layer_config['problem']['instance']['M']\n",
    "    N = layer_config['problem']['instance']['N']\n",
    "    print(f\"{os.path.basename(layer_path)}, C={C}, M={M}, N={N}\")"
   ]
  },
  {
   "cell_type": "code",
   "execution_count": 5,
   "id": "c3c83796",
   "metadata": {},
   "outputs": [
    {
     "data": {
      "text/plain": [
       "('VanillaNeRF Architecture',\n",
       " [<bound method Module.modules of VanillaNeRF(\n",
       "    (posi_encoder): SinusoidalEncoder()\n",
       "    (view_encoder): SinusoidalEncoder()\n",
       "    (mlp): NerfMLP(\n",
       "      (base): MLP(\n",
       "        (hidden_activation): ReLU()\n",
       "        (output_activation): Identity()\n",
       "        (hidden_layers): ModuleList(\n",
       "          (0): Linear(in_features=63, out_features=256, bias=True)\n",
       "          (1): Linear(in_features=256, out_features=256, bias=True)\n",
       "          (2): Linear(in_features=256, out_features=256, bias=True)\n",
       "          (3): Linear(in_features=256, out_features=256, bias=True)\n",
       "          (4): Linear(in_features=256, out_features=256, bias=True)\n",
       "          (5): Linear(in_features=319, out_features=256, bias=True)\n",
       "          (6): Linear(in_features=256, out_features=256, bias=True)\n",
       "          (7): Linear(in_features=256, out_features=256, bias=True)\n",
       "        )\n",
       "      )\n",
       "      (sigma_layer): DenseLayer(\n",
       "        (hidden_activation): ReLU()\n",
       "        (output_activation): Identity()\n",
       "        (hidden_layers): ModuleList()\n",
       "        (output_layer): Linear(in_features=256, out_features=1, bias=True)\n",
       "      )\n",
       "      (bottleneck_layer): DenseLayer(\n",
       "        (hidden_activation): ReLU()\n",
       "        (output_activation): Identity()\n",
       "        (hidden_layers): ModuleList()\n",
       "        (output_layer): Linear(in_features=256, out_features=256, bias=True)\n",
       "      )\n",
       "      (rgb_layer): MLP(\n",
       "        (hidden_activation): ReLU()\n",
       "        (output_activation): Identity()\n",
       "        (hidden_layers): ModuleList(\n",
       "          (0): Linear(in_features=283, out_features=128, bias=True)\n",
       "        )\n",
       "        (output_layer): Linear(in_features=128, out_features=3, bias=True)\n",
       "      )\n",
       "    )\n",
       "  )>])"
      ]
     },
     "execution_count": 5,
     "metadata": {},
     "output_type": "execute_result"
    }
   ],
   "source": [
    "\"VanillaNeRF Architecture\", [model.modules]"
   ]
  }
 ],
 "metadata": {
  "kernelspec": {
   "display_name": "Python 3 (ipykernel)",
   "language": "python",
   "name": "python3"
  },
  "language_info": {
   "codemirror_mode": {
    "name": "ipython",
    "version": 3
   },
   "file_extension": ".py",
   "mimetype": "text/x-python",
   "name": "python",
   "nbconvert_exporter": "python",
   "pygments_lexer": "ipython3",
   "version": "3.8.10"
  }
 },
 "nbformat": 4,
 "nbformat_minor": 5
}
