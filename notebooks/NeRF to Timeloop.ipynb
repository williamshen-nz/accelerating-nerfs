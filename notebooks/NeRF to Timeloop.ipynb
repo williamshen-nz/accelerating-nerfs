{
 "cells": [
  {
   "cell_type": "markdown",
   "id": "c283c831",
   "metadata": {},
   "source": [
    "# Convert NeRF to Timeloop Layer Shapes"
   ]
  },
  {
   "cell_type": "code",
   "execution_count": 1,
   "id": "e46865f8",
   "metadata": {
    "is_executing": true
   },
   "outputs": [],
   "source": [
    "import pytorch2timeloop\n",
    "import os\n",
    "\n",
    "import sys\n",
    "sys.path.append(\"../\") # go to parent dir\n",
    "\n",
    "from accelerating_nerfs.models import VanillaNeRF"
   ]
  },
  {
   "cell_type": "code",
   "execution_count": 2,
   "id": "9a1f28f3",
   "metadata": {
    "scrolled": false
   },
   "outputs": [
    {
     "data": {
      "text/plain": [
       "('VanillaNeRF Architecture',\n",
       " [<bound method Module.modules of VanillaNeRF(\n",
       "    (posi_encoder): SinusoidalEncoder()\n",
       "    (view_encoder): SinusoidalEncoder()\n",
       "    (mlp): NerfMLP(\n",
       "      (base): MLP(\n",
       "        (hidden_activation): ReLU()\n",
       "        (output_activation): Identity()\n",
       "        (hidden_layers): ModuleList(\n",
       "          (0): Linear(in_features=63, out_features=256, bias=True)\n",
       "          (1): Linear(in_features=256, out_features=256, bias=True)\n",
       "          (2): Linear(in_features=256, out_features=256, bias=True)\n",
       "          (3): Linear(in_features=256, out_features=256, bias=True)\n",
       "          (4): Linear(in_features=256, out_features=256, bias=True)\n",
       "          (5): Linear(in_features=319, out_features=256, bias=True)\n",
       "          (6): Linear(in_features=256, out_features=256, bias=True)\n",
       "          (7): Linear(in_features=256, out_features=256, bias=True)\n",
       "        )\n",
       "      )\n",
       "      (sigma_layer): DenseLayer(\n",
       "        (hidden_activation): ReLU()\n",
       "        (output_activation): Identity()\n",
       "        (hidden_layers): ModuleList()\n",
       "        (output_layer): Linear(in_features=256, out_features=1, bias=True)\n",
       "      )\n",
       "      (bottleneck_layer): DenseLayer(\n",
       "        (hidden_activation): ReLU()\n",
       "        (output_activation): Identity()\n",
       "        (hidden_layers): ModuleList()\n",
       "        (output_layer): Linear(in_features=256, out_features=256, bias=True)\n",
       "      )\n",
       "      (rgb_layer): MLP(\n",
       "        (hidden_activation): ReLU()\n",
       "        (output_activation): Identity()\n",
       "        (hidden_layers): ModuleList(\n",
       "          (0): Linear(in_features=283, out_features=128, bias=True)\n",
       "        )\n",
       "        (output_layer): Linear(in_features=128, out_features=3, bias=True)\n",
       "      )\n",
       "    )\n",
       "  )>])"
      ]
     },
     "execution_count": 2,
     "metadata": {},
     "output_type": "execute_result"
    }
   ],
   "source": [
    "# Using vanilla NeRF which are MLPs\n",
    "model = VanillaNeRF()\n",
    "\n",
    "\"VanillaNeRF Architecture\", [model.modules]"
   ]
  },
  {
   "cell_type": "code",
   "execution_count": 3,
   "id": "935780ae",
   "metadata": {},
   "outputs": [
    {
     "name": "stdout",
     "output_type": "stream",
     "text": [
      "input_shape = (1, 3), batch_size = 16384\n"
     ]
    }
   ],
   "source": [
    "input_shape = (1, 3)\n",
    "batch_size = 2 ** 14\n",
    "save_dir = \"../architectures/layer_shapes\"\n",
    "assert os.path.exists(save_dir)\n",
    "\n",
    "print(f\"input_shape = {input_shape}, batch_size = {batch_size}\")"
   ]
  },
  {
   "cell_type": "code",
   "execution_count": 4,
   "id": "86be1d31",
   "metadata": {},
   "outputs": [
    {
     "name": "stderr",
     "output_type": "stream",
     "text": [
      "unknown module type <class 'accelerating_nerfs.models.SinusoidalEncoder'>\n",
      "unknown module type <class 'accelerating_nerfs.models.SinusoidalEncoder'>\n",
      "unknown module type <class 'torch.nn.modules.linear.Identity'>\n",
      "unknown module type <class 'accelerating_nerfs.models.MLP'>\n",
      "unknown module type <class 'torch.nn.modules.linear.Identity'>\n",
      "unknown module type <class 'accelerating_nerfs.models.DenseLayer'>\n",
      "unknown module type <class 'torch.nn.modules.linear.Identity'>\n",
      "unknown module type <class 'accelerating_nerfs.models.DenseLayer'>\n",
      "unknown module type <class 'torch.nn.modules.linear.Identity'>\n",
      "unknown module type <class 'accelerating_nerfs.models.MLP'>\n",
      "unknown module type <class 'accelerating_nerfs.models.NerfMLP'>\n",
      "unknown module type <class 'accelerating_nerfs.models.VanillaNeRF'>\n"
     ]
    },
    {
     "name": "stdout",
     "output_type": "stream",
     "text": [
      "Success, check results in workloads/nerf/*\n",
      "nerf_layer1.yaml   nerf_layer12.yaml  nerf_layer4.yaml\tnerf_layer7.yaml\n",
      "nerf_layer10.yaml  nerf_layer2.yaml   nerf_layer5.yaml\tnerf_layer8.yaml\n",
      "nerf_layer11.yaml  nerf_layer3.yaml   nerf_layer6.yaml\tnerf_layer9.yaml\n"
     ]
    }
   ],
   "source": [
    "pytorch2timeloop.convert_model(\n",
    "    model=model,\n",
    "    input_size=input_shape,\n",
    "    batch_size=batch_size,\n",
    "    model_name=\"Nerf\",\n",
    "    save_dir=save_dir,\n",
    "    convert_fc=True,\n",
    "    exception_module_names=[],\n",
    ")\n",
    "print(\"Success, check results in workloads/nerf/*\")\n",
    "!ls workloads/nerf"
   ]
  }
 ],
 "metadata": {
  "kernelspec": {
   "display_name": "Python 3 (ipykernel)",
   "language": "python",
   "name": "python3"
  },
  "language_info": {
   "codemirror_mode": {
    "name": "ipython",
    "version": 3
   },
   "file_extension": ".py",
   "mimetype": "text/x-python",
   "name": "python",
   "nbconvert_exporter": "python",
   "pygments_lexer": "ipython3",
   "version": "3.8.10"
  }
 },
 "nbformat": 4,
 "nbformat_minor": 5
}
