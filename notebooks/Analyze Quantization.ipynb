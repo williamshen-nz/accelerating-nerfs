{
 "cells": [
  {
   "cell_type": "markdown",
   "id": "24ea434c",
   "metadata": {},
   "source": [
    "# Analyze results of FP32 vs FP16 Quantization"
   ]
  },
  {
   "cell_type": "code",
   "execution_count": 1,
   "id": "477f745c",
   "metadata": {},
   "outputs": [],
   "source": [
    "import os\n",
    "import pandas as pd\n",
    "import json\n",
    "from notebook_utils import load_mpl_style\n",
    "\n",
    "load_mpl_style()\n",
    "fig_dir = \"figures\"\n",
    "os.makedirs(fig_dir, exist_ok=True)"
   ]
  },
  {
   "cell_type": "markdown",
   "id": "fb27e24b",
   "metadata": {},
   "source": [
    "## Load metrics from scene JSON files"
   ]
  },
  {
   "cell_type": "code",
   "execution_count": 2,
   "id": "906a2da0",
   "metadata": {},
   "outputs": [
    {
     "name": "stdout",
     "output_type": "stream",
     "text": [
      "Loaded 8 scene results from ../results\n",
      "Loaded 8 scene results from ../results_fp16\n"
     ]
    }
   ],
   "source": [
    "def load_results(results_dir: str) -> dict:\n",
    "    results = {}\n",
    "    for scene in sorted(os.listdir(results_dir)):\n",
    "        metrics_path = os.path.join(results_dir, scene, \"render_metrics.json\")\n",
    "        with open(metrics_path, \"r\") as f:\n",
    "            results[scene] = json.load(f)\n",
    "    print(f\"Loaded {len(results)} scene results from {results_dir}\")\n",
    "    return results\n",
    "\n",
    "results_fp32 = load_results(\"../results\")\n",
    "results_fp16 = load_results(\"../results_fp16\")"
   ]
  },
  {
   "cell_type": "code",
   "execution_count": 3,
   "id": "f8b420bc",
   "metadata": {},
   "outputs": [],
   "source": [
    "df_fp32 = pd.DataFrame.from_dict(results_fp32, orient=\"index\")\n",
    "df_fp16 = pd.DataFrame.from_dict(results_fp16, orient=\"index\")\n",
    "assert df_fp16['use_fp16'].all()"
   ]
  },
  {
   "cell_type": "code",
   "execution_count": 4,
   "id": "f42ca89b",
   "metadata": {},
   "outputs": [
    {
     "data": {
      "text/html": [
       "<div>\n",
       "<style scoped>\n",
       "    .dataframe tbody tr th:only-of-type {\n",
       "        vertical-align: middle;\n",
       "    }\n",
       "\n",
       "    .dataframe tbody tr th {\n",
       "        vertical-align: top;\n",
       "    }\n",
       "\n",
       "    .dataframe thead th {\n",
       "        text-align: right;\n",
       "    }\n",
       "</style>\n",
       "<table border=\"1\" class=\"dataframe\">\n",
       "  <thead>\n",
       "    <tr style=\"text-align: right;\">\n",
       "      <th></th>\n",
       "      <th>fp32_render_time</th>\n",
       "      <th>fp32_psnr_avg</th>\n",
       "      <th>fp32_power_draw_avg</th>\n",
       "      <th>fp32_energy</th>\n",
       "      <th>fp32_lpips_avg</th>\n",
       "      <th>fp16_render_time</th>\n",
       "      <th>fp16_psnr_avg</th>\n",
       "      <th>fp16_power_draw_avg</th>\n",
       "      <th>fp16_energy</th>\n",
       "      <th>fp16_lpips_avg</th>\n",
       "    </tr>\n",
       "  </thead>\n",
       "  <tbody>\n",
       "    <tr>\n",
       "      <th>chair</th>\n",
       "      <td>116.754415</td>\n",
       "      <td>35.106121</td>\n",
       "      <td>322.745</td>\n",
       "      <td>37681.903532</td>\n",
       "      <td>0.025573</td>\n",
       "      <td>43.742688</td>\n",
       "      <td>33.905234</td>\n",
       "      <td>269.685</td>\n",
       "      <td>11796.746798</td>\n",
       "      <td>0.031763</td>\n",
       "    </tr>\n",
       "    <tr>\n",
       "      <th>drums</th>\n",
       "      <td>121.699046</td>\n",
       "      <td>26.245696</td>\n",
       "      <td>322.890</td>\n",
       "      <td>39295.404817</td>\n",
       "      <td>0.064089</td>\n",
       "      <td>44.754623</td>\n",
       "      <td>25.934531</td>\n",
       "      <td>271.530</td>\n",
       "      <td>12152.222751</td>\n",
       "      <td>0.070676</td>\n",
       "    </tr>\n",
       "    <tr>\n",
       "      <th>ficus</th>\n",
       "      <td>60.629561</td>\n",
       "      <td>32.927028</td>\n",
       "      <td>303.205</td>\n",
       "      <td>18383.186188</td>\n",
       "      <td>0.018331</td>\n",
       "      <td>26.214829</td>\n",
       "      <td>32.065000</td>\n",
       "      <td>251.020</td>\n",
       "      <td>6580.446429</td>\n",
       "      <td>0.023544</td>\n",
       "    </tr>\n",
       "    <tr>\n",
       "      <th>hotdog</th>\n",
       "      <td>243.523932</td>\n",
       "      <td>36.930002</td>\n",
       "      <td>338.745</td>\n",
       "      <td>82492.514375</td>\n",
       "      <td>0.032591</td>\n",
       "      <td>81.122944</td>\n",
       "      <td>36.241094</td>\n",
       "      <td>292.390</td>\n",
       "      <td>23719.537453</td>\n",
       "      <td>0.036598</td>\n",
       "    </tr>\n",
       "    <tr>\n",
       "      <th>lego</th>\n",
       "      <td>154.571539</td>\n",
       "      <td>33.719887</td>\n",
       "      <td>323.375</td>\n",
       "      <td>49984.571543</td>\n",
       "      <td>0.027929</td>\n",
       "      <td>54.092843</td>\n",
       "      <td>32.742109</td>\n",
       "      <td>293.780</td>\n",
       "      <td>15891.395431</td>\n",
       "      <td>0.033588</td>\n",
       "    </tr>\n",
       "    <tr>\n",
       "      <th>materials</th>\n",
       "      <td>148.086400</td>\n",
       "      <td>30.339982</td>\n",
       "      <td>321.120</td>\n",
       "      <td>47553.504713</td>\n",
       "      <td>0.043826</td>\n",
       "      <td>51.447307</td>\n",
       "      <td>29.861328</td>\n",
       "      <td>285.450</td>\n",
       "      <td>14685.633703</td>\n",
       "      <td>0.052197</td>\n",
       "    </tr>\n",
       "    <tr>\n",
       "      <th>mic</th>\n",
       "      <td>119.692415</td>\n",
       "      <td>9.083419</td>\n",
       "      <td>321.935</td>\n",
       "      <td>38533.177559</td>\n",
       "      <td>0.334989</td>\n",
       "      <td>43.010924</td>\n",
       "      <td>9.084258</td>\n",
       "      <td>273.070</td>\n",
       "      <td>11744.992939</td>\n",
       "      <td>0.336483</td>\n",
       "    </tr>\n",
       "    <tr>\n",
       "      <th>ship</th>\n",
       "      <td>354.269128</td>\n",
       "      <td>29.849499</td>\n",
       "      <td>336.880</td>\n",
       "      <td>119346.183849</td>\n",
       "      <td>0.150662</td>\n",
       "      <td>114.588152</td>\n",
       "      <td>29.433750</td>\n",
       "      <td>315.865</td>\n",
       "      <td>36194.386755</td>\n",
       "      <td>0.156542</td>\n",
       "    </tr>\n",
       "  </tbody>\n",
       "</table>\n",
       "</div>"
      ],
      "text/plain": [
       "           fp32_render_time  fp32_psnr_avg  fp32_power_draw_avg   \n",
       "chair            116.754415      35.106121              322.745  \\\n",
       "drums            121.699046      26.245696              322.890   \n",
       "ficus             60.629561      32.927028              303.205   \n",
       "hotdog           243.523932      36.930002              338.745   \n",
       "lego             154.571539      33.719887              323.375   \n",
       "materials        148.086400      30.339982              321.120   \n",
       "mic              119.692415       9.083419              321.935   \n",
       "ship             354.269128      29.849499              336.880   \n",
       "\n",
       "             fp32_energy  fp32_lpips_avg  fp16_render_time  fp16_psnr_avg   \n",
       "chair       37681.903532        0.025573         43.742688      33.905234  \\\n",
       "drums       39295.404817        0.064089         44.754623      25.934531   \n",
       "ficus       18383.186188        0.018331         26.214829      32.065000   \n",
       "hotdog      82492.514375        0.032591         81.122944      36.241094   \n",
       "lego        49984.571543        0.027929         54.092843      32.742109   \n",
       "materials   47553.504713        0.043826         51.447307      29.861328   \n",
       "mic         38533.177559        0.334989         43.010924       9.084258   \n",
       "ship       119346.183849        0.150662        114.588152      29.433750   \n",
       "\n",
       "           fp16_power_draw_avg   fp16_energy  fp16_lpips_avg  \n",
       "chair                  269.685  11796.746798        0.031763  \n",
       "drums                  271.530  12152.222751        0.070676  \n",
       "ficus                  251.020   6580.446429        0.023544  \n",
       "hotdog                 292.390  23719.537453        0.036598  \n",
       "lego                   293.780  15891.395431        0.033588  \n",
       "materials              285.450  14685.633703        0.052197  \n",
       "mic                    273.070  11744.992939        0.336483  \n",
       "ship                   315.865  36194.386755        0.156542  "
      ]
     },
     "execution_count": 4,
     "metadata": {},
     "output_type": "execute_result"
    }
   ],
   "source": [
    "# Merge results into single dataframe\n",
    "df_compare = df_fp32.copy()\n",
    "df_compare = df_compare.drop(\n",
    "    columns=[\"use_fp16\", \"scene\", \"checkpoint\", \"num_downscales\", \n",
    "             \"psnrs\", \"lpips\", \"og_size\", \"quantized_size\"]\n",
    ")\n",
    "df_compare = df_compare.add_prefix('fp32_')\n",
    "\n",
    "df_fp16_relevant = df_fp16[[\"render_time\", \"psnr_avg\", \"power_draw_avg\", \"energy\", \"lpips_avg\"]]\n",
    "df_fp16_relevant = df_fp16_relevant.add_prefix('fp16_')\n",
    "\n",
    "df_compare = df_compare.join(df_fp16_relevant)\n",
    "df_compare"
   ]
  },
  {
   "cell_type": "markdown",
   "id": "e747f702",
   "metadata": {},
   "source": [
    "### Compute the speedup ratio and energy ratio between FP32 and FP16\n",
    "\n",
    "`ratio = fp32_metric / fp16_metric`"
   ]
  },
  {
   "cell_type": "code",
   "execution_count": 5,
   "id": "c349844b",
   "metadata": {},
   "outputs": [
    {
     "data": {
      "text/plain": [
       "chair        2.669118\n",
       "drums        2.719251\n",
       "ficus        2.312796\n",
       "hotdog       3.001912\n",
       "lego         2.857523\n",
       "materials    2.878409\n",
       "mic          2.782838\n",
       "ship         3.091673\n",
       "Name: render_speedup, dtype: float64"
      ]
     },
     "execution_count": 5,
     "metadata": {},
     "output_type": "execute_result"
    }
   ],
   "source": [
    "df_compare[\"render_speedup\"] = df_compare[\"fp32_render_time\"] / df_compare[\"fp16_render_time\"]\n",
    "df_compare[\"render_speedup\"]"
   ]
  },
  {
   "cell_type": "code",
   "execution_count": 6,
   "id": "35aaa00f",
   "metadata": {},
   "outputs": [
    {
     "data": {
      "text/plain": [
       "chair        3.194262\n",
       "drums        3.233598\n",
       "ficus        2.793608\n",
       "hotdog       3.477830\n",
       "lego         3.145386\n",
       "materials    3.238097\n",
       "mic          3.280817\n",
       "ship         3.297367\n",
       "Name: energy_improvement, dtype: float64"
      ]
     },
     "execution_count": 6,
     "metadata": {},
     "output_type": "execute_result"
    }
   ],
   "source": [
    "df_compare[\"energy_improvement\"] = df_compare[\"fp32_energy\"] / df_compare[\"fp16_energy\"]\n",
    "df_compare[\"energy_improvement\"]"
   ]
  },
  {
   "cell_type": "markdown",
   "id": "376e5067",
   "metadata": {},
   "source": [
    "### Plot grouped barchart"
   ]
  },
  {
   "cell_type": "code",
   "execution_count": 7,
   "id": "ddbf3046",
   "metadata": {},
   "outputs": [
    {
     "data": {
      "image/png": "[encoded data removed]",
      "text/plain": [
       "<Figure size 720x450 with 1 Axes>"
      ]
     },
     "metadata": {},
     "output_type": "display_data"
    }
   ],
   "source": [
    "ax = df_compare.plot.bar(\n",
    "    y=[\"render_speedup\", \"energy_improvement\"], \n",
    "    width=0.7, figsize=(7.2, 4.5), align=\"center\", alpha=0.75\n",
    ")\n",
    "ax.set_ylim(bottom=1.0)\n",
    "ax.legend(['Speedup', 'Energy'], loc=\"upper left\", ncol=2)\n",
    "\n",
    "ax.set_title(f\"Comparing Speed and Energy of FP32 and FP16 Quantization\")\n",
    "ax.set_xlabel(\"Scene\")\n",
    "ax.set_ylabel(\"Ratio (FP32 / FP16)\")\n",
    "ax.figure.tight_layout()\n",
    "ax.figure.savefig(f\"{fig_dir}/quantization_results.pdf\")"
   ]
  }
 ],
 "metadata": {
  "kernelspec": {
   "display_name": "Python 3 (ipykernel)",
   "language": "python",
   "name": "python3"
  },
  "language_info": {
   "codemirror_mode": {
    "name": "ipython",
    "version": 3
   },
   "file_extension": ".py",
   "mimetype": "text/x-python",
   "name": "python",
   "nbconvert_exporter": "python",
   "pygments_lexer": "ipython3",
   "version": "3.8.10"
  }
 },
 "nbformat": 4,
 "nbformat_minor": 5
}
