{
 "cells": [
  {
   "cell_type": "code",
   "execution_count": 1,
   "id": "a2e4564e",
   "metadata": {},
   "outputs": [],
   "source": [
    "import torch"
   ]
  },
  {
   "cell_type": "code",
   "execution_count": 2,
   "id": "12799da8",
   "metadata": {},
   "outputs": [
    {
     "name": "stdout",
     "output_type": "stream",
     "text": [
      "torch.Size([64]) torch.Size([64])\n"
     ]
    }
   ],
   "source": [
    "a = torch.randn(128)\n",
    "b = torch.randn(128)\n",
    "print(a.shape, b.shape)"
   ]
  },
  {
   "cell_type": "code",
   "execution_count": 3,
   "id": "91c04443",
   "metadata": {},
   "outputs": [
    {
     "name": "stdout",
     "output_type": "stream",
     "text": [
      "GT: 10.306711196899414\n"
     ]
    }
   ],
   "source": [
    "gt = torch.dot(a, b)\n",
    "print(\"GT:\", gt.item())"
   ]
  },
  {
   "cell_type": "code",
   "execution_count": 4,
   "id": "a58ef045",
   "metadata": {
    "scrolled": true
   },
   "outputs": [],
   "source": [
    "# Create conv layer and set it's weight to vector a\n",
    "conv = torch.nn.Conv1d(64, 1, 1, bias=False)\n",
    "conv.weight.data = a.unsqueeze(0).unsqueeze(-1)"
   ]
  },
  {
   "cell_type": "code",
   "execution_count": 5,
   "id": "d14b1435",
   "metadata": {},
   "outputs": [
    {
     "name": "stdout",
     "output_type": "stream",
     "text": [
      "b_in.shape torch.Size([1, 64, 1])\n"
     ]
    }
   ],
   "source": [
    "b_in = b.unsqueeze(0).unsqueeze(-1)\n",
    "print('b_in.shape', b_in.shape)"
   ]
  },
  {
   "cell_type": "code",
   "execution_count": 6,
   "id": "de35aa06",
   "metadata": {},
   "outputs": [
    {
     "name": "stdout",
     "output_type": "stream",
     "text": [
      "conv1d: 10.306711196899414\n"
     ]
    }
   ],
   "source": [
    "out = conv(b.unsqueeze(0).unsqueeze(-1))\n",
    "out = out.squeeze().squeeze()\n",
    "print(\"conv1d:\", out.item())"
   ]
  },
  {
   "cell_type": "code",
   "execution_count": 7,
   "id": "f862498c",
   "metadata": {},
   "outputs": [
    {
     "name": "stdout",
     "output_type": "stream",
     "text": [
      "Dot product == 1d conv? True\n"
     ]
    }
   ],
   "source": [
    "print(\"Dot product == 1d conv?\", torch.allclose(gt, out))"
   ]
  }
 ],
 "metadata": {
  "kernelspec": {
   "display_name": "Python 3 (ipykernel)",
   "language": "python",
   "name": "python3"
  },
  "language_info": {
   "codemirror_mode": {
    "name": "ipython",
    "version": 3
   },
   "file_extension": ".py",
   "mimetype": "text/x-python",
   "name": "python",
   "nbconvert_exporter": "python",
   "pygments_lexer": "ipython3",
   "version": "3.8.10"
  }
 },
 "nbformat": 4,
 "nbformat_minor": 5
}
