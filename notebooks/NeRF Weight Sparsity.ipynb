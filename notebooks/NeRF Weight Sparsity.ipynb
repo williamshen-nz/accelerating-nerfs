{
 "cells": [
  {
   "cell_type": "markdown",
   "id": "3acb3f03",
   "metadata": {},
   "source": [
    "# Compute sparsity of NeRF weights"
   ]
  },
  {
   "cell_type": "code",
   "execution_count": 1,
   "id": "9105a4c5",
   "metadata": {},
   "outputs": [],
   "source": [
    "import torch\n",
    "import sys\n",
    "sys.path.append(\"../\") # go to parent dir\n",
    "\n",
    "from accelerating_nerfs.models import VanillaNeRF"
   ]
  },
  {
   "cell_type": "code",
   "execution_count": 2,
   "id": "9265c0da",
   "metadata": {},
   "outputs": [
    {
     "data": {
      "text/plain": [
       "<All keys matched successfully>"
      ]
     },
     "execution_count": 2,
     "metadata": {},
     "output_type": "execute_result"
    }
   ],
   "source": [
    "# Load a NeRF\n",
    "model = VanillaNeRF()\n",
    "\n",
    "checkpoint_path = \"../nerf-synthetic-checkpoints/results/lego/nerf_20000.pt\"\n",
    "checkpoint = torch.load(checkpoint_path, map_location=\"cpu\")\n",
    "\n",
    "model.load_state_dict(checkpoint[\"radiance_field_state_dict\"])"
   ]
  },
  {
   "cell_type": "code",
   "execution_count": 3,
   "id": "c504114d",
   "metadata": {},
   "outputs": [
    {
     "name": "stdout",
     "output_type": "stream",
     "text": [
      "mlp.base.hidden_layers.0.weight, sparsity = 0.0%\n",
      "mlp.base.hidden_layers.0.bias, sparsity = 0.0%\n",
      "mlp.base.hidden_layers.1.weight, sparsity = 0.00152587890625%\n",
      "mlp.base.hidden_layers.1.bias, sparsity = 0.0%\n",
      "mlp.base.hidden_layers.2.weight, sparsity = 0.00152587890625%\n",
      "mlp.base.hidden_layers.2.bias, sparsity = 0.0%\n",
      "mlp.base.hidden_layers.3.weight, sparsity = 0.0%\n",
      "mlp.base.hidden_layers.3.bias, sparsity = 0.0%\n",
      "mlp.base.hidden_layers.4.weight, sparsity = 0.00152587890625%\n",
      "mlp.base.hidden_layers.4.bias, sparsity = 0.0%\n",
      "mlp.base.hidden_layers.5.weight, sparsity = 0.0%\n",
      "mlp.base.hidden_layers.5.bias, sparsity = 0.0%\n",
      "mlp.base.hidden_layers.6.weight, sparsity = 0.0%\n",
      "mlp.base.hidden_layers.6.bias, sparsity = 0.0%\n",
      "mlp.base.hidden_layers.7.weight, sparsity = 0.0%\n",
      "mlp.base.hidden_layers.7.bias, sparsity = 0.0%\n",
      "mlp.sigma_layer.output_layer.weight, sparsity = 0.0%\n",
      "mlp.sigma_layer.output_layer.bias, sparsity = 0.0%\n",
      "mlp.bottleneck_layer.output_layer.weight, sparsity = 0.0%\n",
      "mlp.bottleneck_layer.output_layer.bias, sparsity = 0.0%\n",
      "mlp.rgb_layer.hidden_layers.0.weight, sparsity = 0.0027606007643043995%\n",
      "mlp.rgb_layer.hidden_layers.0.bias, sparsity = 0.0%\n",
      "mlp.rgb_layer.output_layer.weight, sparsity = 0.0%\n",
      "mlp.rgb_layer.output_layer.bias, sparsity = 0.0%\n"
     ]
    }
   ],
   "source": [
    "def compute_sparsity(matrix, threshold=1e-6):\n",
    "    num_zero = torch.lt(torch.abs(matrix), threshold).sum()\n",
    "    total = matrix.numel()\n",
    "    return num_zero / total\n",
    "\n",
    "for name, param in model.named_parameters():\n",
    "    if 'weight' in name or 'bias' in name:\n",
    "        sparsity = compute_sparsity(param)\n",
    "        print(f\"{name}, sparsity = {(100 * sparsity)}%\")"
   ]
  },
  {
   "cell_type": "markdown",
   "id": "4c514ea5",
   "metadata": {},
   "source": [
    "**Conclusion:** MLP NeRFs do not have sparsity in their weight matrices."
   ]
  }
 ],
 "metadata": {
  "kernelspec": {
   "display_name": "Python 3 (ipykernel)",
   "language": "python",
   "name": "python3"
  },
  "language_info": {
   "codemirror_mode": {
    "name": "ipython",
    "version": 3
   },
   "file_extension": ".py",
   "mimetype": "text/x-python",
   "name": "python",
   "nbconvert_exporter": "python",
   "pygments_lexer": "ipython3",
   "version": "3.8.10"
  }
 },
 "nbformat": 4,
 "nbformat_minor": 5
}
