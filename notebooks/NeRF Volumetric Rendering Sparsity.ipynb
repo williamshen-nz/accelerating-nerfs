{
 "cells": [
  {
   "cell_type": "markdown",
   "metadata": {},
   "source": [
    "# NeRF Activation Sparsity\n",
    "Run the `accelerating_nerfs/nerf_activation_sparsity.py` script to compute the sparsities. You need to use the NeRF environment for that."
   ]
  },
  {
   "cell_type": "code",
   "execution_count": 1,
   "metadata": {},
   "outputs": [],
   "source": [
    "import os\n",
    "import json\n",
    "import pandas as pd\n",
    "import numpy as np\n",
    "import matplotlib.pyplot as plt\n",
    "\n",
    "from collections import defaultdict\n",
    "from notebook_utils import load_mpl_style\n",
    "\n",
    "load_mpl_style()"
   ]
  },
  {
   "cell_type": "code",
   "execution_count": 2,
   "metadata": {},
   "outputs": [
    {
     "name": "stdout",
     "output_type": "stream",
     "text": [
      "2023-05-03_18-13-41_volrend_sparsity.json\r\n"
     ]
    }
   ],
   "source": [
    "!ls | grep volrend"
   ]
  },
  {
   "cell_type": "code",
   "execution_count": 3,
   "metadata": {},
   "outputs": [
    {
     "name": "stdout",
     "output_type": "stream",
     "text": [
      "Loaded sparsity results for dict_keys(['chair', 'drums', 'ficus', 'hotdog', 'lego', 'materials', 'mic', 'ship'])\n"
     ]
    }
   ],
   "source": [
    "sparsity_results_path = \"2023-05-03_18-13-41_volrend_sparsity.json\"\n",
    "with open(sparsity_results_path, \"r\") as f:\n",
    "    sparsity_results = json.load(f)\n",
    "\n",
    "print(f\"Loaded sparsity results for {sparsity_results.keys()}\")"
   ]
  },
  {
   "cell_type": "code",
   "execution_count": 4,
   "metadata": {
    "scrolled": true
   },
   "outputs": [],
   "source": [
    "processed_results = defaultdict(dict)\n",
    "sparsity_key = 'avg_weights_sparsity'\n",
    "sparsity_std_key = 'std_weights_sparsity'\n",
    "\n",
    "for scene, results in sparsity_results.items():\n",
    "    processed_results[scene] = {\n",
    "        \"sparsity\": results[sparsity_key],\n",
    "        \"std\": results[sparsity_std_key] if sparsity_std_key else None\n",
    "    }"
   ]
  },
  {
   "cell_type": "markdown",
   "metadata": {},
   "source": [
    "## Plot volumetric rendering weight sparsity for each scene"
   ]
  },
  {
   "cell_type": "code",
   "execution_count": 5,
   "metadata": {},
   "outputs": [
    {
     "data": {
      "text/html": [
       "<div>\n",
       "<style scoped>\n",
       "    .dataframe tbody tr th:only-of-type {\n",
       "        vertical-align: middle;\n",
       "    }\n",
       "\n",
       "    .dataframe tbody tr th {\n",
       "        vertical-align: top;\n",
       "    }\n",
       "\n",
       "    .dataframe thead th {\n",
       "        text-align: right;\n",
       "    }\n",
       "</style>\n",
       "<table border=\"1\" class=\"dataframe\">\n",
       "  <thead>\n",
       "    <tr style=\"text-align: right;\">\n",
       "      <th></th>\n",
       "      <th>sparsity</th>\n",
       "      <th>std</th>\n",
       "    </tr>\n",
       "  </thead>\n",
       "  <tbody>\n",
       "    <tr>\n",
       "      <th>chair</th>\n",
       "      <td>0.372917</td>\n",
       "      <td>0.256707</td>\n",
       "    </tr>\n",
       "    <tr>\n",
       "      <th>drums</th>\n",
       "      <td>0.438331</td>\n",
       "      <td>0.258318</td>\n",
       "    </tr>\n",
       "    <tr>\n",
       "      <th>ficus</th>\n",
       "      <td>0.524542</td>\n",
       "      <td>0.253974</td>\n",
       "    </tr>\n",
       "    <tr>\n",
       "      <th>hotdog</th>\n",
       "      <td>0.317997</td>\n",
       "      <td>0.251891</td>\n",
       "    </tr>\n",
       "    <tr>\n",
       "      <th>lego</th>\n",
       "      <td>0.385306</td>\n",
       "      <td>0.217825</td>\n",
       "    </tr>\n",
       "  </tbody>\n",
       "</table>\n",
       "</div>"
      ],
      "text/plain": [
       "        sparsity       std\n",
       "chair   0.372917  0.256707\n",
       "drums   0.438331  0.258318\n",
       "ficus   0.524542  0.253974\n",
       "hotdog  0.317997  0.251891\n",
       "lego    0.385306  0.217825"
      ]
     },
     "execution_count": 5,
     "metadata": {},
     "output_type": "execute_result"
    }
   ],
   "source": [
    "df = pd.DataFrame.from_dict(processed_results, orient=\"index\")\n",
    "df.head()"
   ]
  },
  {
   "cell_type": "code",
   "execution_count": 8,
   "metadata": {},
   "outputs": [
    {
     "data": {
      "image/png": "[encoded data removed]",
      "text/plain": [
       "<Figure size 650x400 with 1 Axes>"
      ]
     },
     "metadata": {},
     "output_type": "display_data"
    }
   ],
   "source": [
    "fig_dir = \"figures/volrend\"\n",
    "os.makedirs(fig_dir, exist_ok=True)\n",
    "\n",
    "err = df[\"std\"]\n",
    "ax = df.plot.bar(\n",
    "    y=\"sparsity\", yerr=err, width=0.8, figsize=(6.5, 4),\n",
    "    align='center', alpha=0.5, ecolor='dimgray', capsize=3.5\n",
    ")\n",
    "# ax.set_xlabel(\"Scene\")\n",
    "ax.set_ylabel(\"Sparsity\")\n",
    "ax.get_legend().remove()\n",
    "ax.set_title(\"Average Weight Sparsity for Volumetric Rendering\")\n",
    "ax.figure.tight_layout()\n",
    "ax.figure.savefig(f\"{fig_dir}/volrend_weight_sparsity.pdf\")    "
   ]
  },
  {
   "cell_type": "code",
   "execution_count": 7,
   "metadata": {},
   "outputs": [
    {
     "name": "stdout",
     "output_type": "stream",
     "text": [
      "Overall mean weight sparsity across scenes: 0.33840320646341765\n"
     ]
    }
   ],
   "source": [
    "print(\"Overall mean weight sparsity across scenes:\", df[\"sparsity\"].mean())"
   ]
  }
 ],
 "metadata": {
  "kernelspec": {
   "display_name": "Python 3 (ipykernel)",
   "language": "python",
   "name": "python3"
  },
  "language_info": {
   "codemirror_mode": {
    "name": "ipython",
    "version": 3
   },
   "file_extension": ".py",
   "mimetype": "text/x-python",
   "name": "python",
   "nbconvert_exporter": "python",
   "pygments_lexer": "ipython3",
   "version": "3.8.10"
  }
 },
 "nbformat": 4,
 "nbformat_minor": 1
}
